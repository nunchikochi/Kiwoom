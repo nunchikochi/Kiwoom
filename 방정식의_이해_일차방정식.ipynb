{
  "nbformat": 4,
  "nbformat_minor": 0,
  "metadata": {
    "colab": {
      "provenance": [],
      "collapsed_sections": [
        "ZGdhUy1Mssmj",
        "-UpFfMQeEsS3",
        "CwDgbM16v87I"
      ],
      "include_colab_link": true
    },
    "kernelspec": {
      "name": "python3",
      "display_name": "Python 3"
    },
    "language_info": {
      "name": "python"
    }
  },
  "cells": [
    {
      "cell_type": "markdown",
      "metadata": {
        "id": "view-in-github",
        "colab_type": "text"
      },
      "source": [
        "<a href=\"https://colab.research.google.com/github/nunchikochi/Kiwoom/blob/main/%EB%B0%A9%EC%A0%95%EC%8B%9D%EC%9D%98_%EC%9D%B4%ED%95%B4_%EC%9D%BC%EC%B0%A8%EB%B0%A9%EC%A0%95%EC%8B%9D.ipynb\" target=\"_parent\"><img src=\"https://colab.research.google.com/assets/colab-badge.svg\" alt=\"Open In Colab\"/></a>"
      ]
    },
    {
      "cell_type": "markdown",
      "metadata": {
        "id": "ZGdhUy1Mssmj"
      },
      "source": [
        "## **준비하기**\n",
        "*   **파일>드라이브에 사본 저장** 하기\n",
        "*   **런타임>모두 실행** 하기"
      ]
    },
    {
      "cell_type": "markdown",
      "source": [
        "# ▣ 방정식의 이해\n",
        "\n",
        "\n",
        "1. 문자 사용과 식의 계산\n",
        "2. 일차방정식\n",
        "\n",
        "\n"
      ],
      "metadata": {
        "id": "-UpFfMQeEsS3"
      }
    },
    {
      "cell_type": "markdown",
      "source": [
        "# 1. 문자 사용과 식의 계산\n",
        "\n"
      ],
      "metadata": {
        "id": "pk0cJ7V5GFm5"
      }
    },
    {
      "cell_type": "markdown",
      "source": [
        "> [예제1]"
      ],
      "metadata": {
        "id": "36VABLgtWF7e"
      }
    },
    {
      "cell_type": "markdown",
      "source": [
        "\n",
        "\n",
        "*  숫자를 문자에 대입하여 계산한다.\n",
        "\n",
        "    *   (예시) 1부터 5까지의 합을 계산한 값을 구해보자.\n"
      ],
      "metadata": {
        "id": "PL6IdV-DwMS6"
      }
    },
    {
      "cell_type": "code",
      "source": [
        "#@title 예시 코드 { display-mode: \"form\" }\n",
        "\n",
        "a=5\n",
        "sum=0\n",
        "\n",
        "while a>0:          #a가 0보다 클 때, 반복 수행한다.\n",
        "    sum=sum+a       #sum변수에 a의 값을 더하여 저장한다.\n",
        "    a=a-1           #a변수에 a-1의 값을 저장한다.\n",
        "print(sum)"
      ],
      "metadata": {
        "colab": {
          "base_uri": "https://localhost:8080/"
        },
        "id": "iqbPE-tfxm5s",
        "outputId": "770b3282-2182-4c07-c26d-4e4391438168"
      },
      "execution_count": null,
      "outputs": [
        {
          "output_type": "stream",
          "name": "stdout",
          "text": [
            "15\n"
          ]
        }
      ]
    },
    {
      "cell_type": "markdown",
      "source": [
        "⭐ 아래 코드 셀에 직접 코드를 입력해보자."
      ],
      "metadata": {
        "id": "l_7VNqlfxO7F"
      }
    },
    {
      "cell_type": "code",
      "source": [
        "\n",
        "\n",
        "\n"
      ],
      "metadata": {
        "id": "CptDU6H8xMlF"
      },
      "execution_count": null,
      "outputs": []
    },
    {
      "cell_type": "markdown",
      "source": [
        "\n",
        "\n",
        "---\n",
        "\n",
        "\n",
        "\n"
      ],
      "metadata": {
        "id": "pc0aVrxM1Nf6"
      }
    },
    {
      "cell_type": "markdown",
      "source": [
        "> [예제2]"
      ],
      "metadata": {
        "id": "0NZIMU4RWTfE"
      }
    },
    {
      "cell_type": "markdown",
      "source": [
        "*  ![image.png](data:image/png;base64,iVBORw0KGgoAAAANSUhEUgAAAZwAAAAgCAYAAAAmPs6DAAAAAXNSR0IArs4c6QAAAARnQU1BAACxjwv8YQUAAAAJcEhZcwAADsMAAA7DAcdvqGQAAAnpSURBVHhe7Z0Lgps4DIY1e5w4xxnIcYDjBOY4kOtkf9kmMWDAmEce1bfrtlAG/JAtyRL05w5IEARBEHbmP/u7IAiCIOyKKBxBEAThEEThCIIgCIcgCkcQtqApKD3/0M8PyjmlorHnBUF4IApHENYCZXO+EGX1nTgHp05ulJ/PonQEoYcoHEFYy62hpmn4N43KMkoI527mWBAEgygcQVhLUsKzKSlR9lijSJ3sHwVB0IjCEYStqSq65VfKOgpIEITPVzhNRen5bIK1ErBdSUWF9N86OHngllEdpW0gyz8pfhWE7+SzFQ4Ha88Fqeyqg7X3e005pmt+/qFUZu1imqKgfG3goeJsrTPGBYqr2lpzQSGmfO8zpUUFRyI1z0oL2vxRUaB+t18q/0XXZtdxd+nKwDwNqpbSuTVIUd5HXkJx27yy4oeN0wj8aZvPpL7niu6UlPbYUud3TPc7qRxXCMG0/Ubqnk90XF0m9jpTVJLfy8H1Zmz6Q7OIunTuW99L5yF1rpxxL+/JTJ2PobznnUqg/ovbz21J8OsbgvFIFPq9HXfMr63HXY+rI1ud0pvPXRkYp0zMz3ZkST9nQ5nBnPDWuV8m1iRdT1yj0MdcknzYttA2z7PB/Izkcz2c5s9YKRUsXXPGoH5N8Lap6O+jrJjXUsFaPHWj3gOagr2JZ/ovBJcyxVuaG20DscfqbI0+3mv5gWUHC+/njbebIIaUOZ5Ng/68fU3SgBnjW5IRFkwz7onZyt5y+1VltZWrbsFiTCr5pWnp9AB5KqqEyjpzEjoUJXhOnRPlQR5SADppZFjvTuFGTIDFX19XX690Rcl+44WH56kOLWziwWzrIX6uwmkVy2IpFAZUEE7KZoLccOvzBhPDzcbiyXulHEqHF9zVqIyuML2eE7jGvZ+TEXYgTU/bF8ELW5o+JqSelFjQTl8imxXaVmFM6gy+pD6zw6I9hlUarjIPhtPVE/iM9tBFnbCg325YTo+hwbMIz5xthVL435QGkyqmfhxiKPldMBhp60ILDRW8jcfG1MDIjDM2liscHaQ3VufjgRCK9txYA7XWdSZkcBntMWU6oe4tQq3noxL63WnCt23pVo0HZ7y+27d/KzCeBQRqxgLjl0pu6GnM3x6K5xHm7lFT92BC5B2K0lj+bjlYOS6cl+Ey3PC6jHEftkb9QgH1dxg2hduU04mNHHumAwyl51zxLIDQ+GP1C1YAG6IGefK2vx9t6JYzFD17FsuXABgEPDbe+RpOU1wox381r7GPjnKMjUuBFixjocLhxQnLzpUX+oQqfiCE+nyB5YtzvGZVI6bumLs8W+YWwh7Nn7EKkizbRZgauJfFqR621So638Rkjmr/UjhRANpmfnHEZDlB5Qz1ilmQTt9izneIl/djWVbP5TL8gneKtAJN6ZabenrpbGWx5W3Pt8AQMFt/8NAecstbRGftgebw2I7i1jSeOWKNZne+e0rMElAVuoGrjB6u89hWpn65OSZsgQYFU5elE/SyQftH8M0cK0+w6zBs4FvtFUHG/RN9b25rN+ioA3o7JipMBlSnylRkkPvLqbN5xngw1bQx8QRg+4Hu+KBkNzDqv8+wL/ZJGthL3rcey0X1jJBhLHjeOdUdK8Y8K2bcXUxiisJ9hs9sGT57nDoPSXTZk2Ff9+km4yg9Xv3Lg+Ver4NTzwsbJx738WviknUWKZwu/EA0eq10bYapz27KxqW3ULcDeMizN6RMPAvOjBDtnaXWXUj89+leEyf4yzlC3vkZa7PUAuu5RIb1Asbj4FytM7P6/R4/7pq6vOeQya5R42eJwplFZ0TOPHAV0+Nq5l3PkLPZdW6twtpsxxEKbnwuh42Tfp7HANHo8V8uq/FJA3DFKzhboW7p3jEMDmzedGATU2NntLvqupp6K4L3Tcef/XYxHE4UUMvfhlfcx467X5duBtAXs1DeX0ZgPRfJMMeo6pKouDzk8lIQYZFeLD/j8NZXQU1y7cUMxhnERDoxnQVFZ0RifvLz7a02heOfSpGubYPxadynNPRXeZJx+Dhiy6qNu1wxNjrOooP+ca3i5AO+F7/r2N2STOmc3kwd7dlgtNqJwKeBXwVrYiyE9mhvhhb1O/VFGKYNnOtfls+irUvn/K5G3whdKw51ciyxGhUq2+0R55ojPJxjxnjaEg4hrJ57yfBKD+eT0BY++iy2PPp6rM+GYzTn4ei/940rntf1XJeME3tbWF+duqsAD3SMSA8HWpoN74OzPLzAqrlUCV3Rsx20JWH/vCEcZK/cDLiG0zYxzDHvCbyME2XsmawIBId4bDHOmcl8ai1V9DV6tUrN/S7FH9GvTZ0+lDeS90nC6rmlDPNXsjl9l61e9hLytXOOkx0w1vpNeL5X/5g9IZaNWct9OgPMlLjUXk0nYaFf+un8nlK3SU2KMnijVYq6tO3B2sWfmKqSuVcVnjSYMzoRoud1ch14aWzyS2Rb2duCt+S0KdQD9YLGz9Pu11qNaDRpT2tyMDJMZW4IrADWtvbIpUzWWYpjaIshsdYJ7znDUsAw7PKso/FZSHHsa+n2vaDNPZyXyftCDyeynuEyzPUxVq2/2Lfica9cJy5sNO5cZ3dM+8doN5bB8H7ysoPcPFjeDzo2qsfB9CvvMvSr1pV7l7m2cH3cv48Zp23GNsjD0TnrsIpPrCm1R3GiMk9g3fB5PleEvcuxMWMpvWx9p5yDbo+fTL8rE8IJUkFVbt685T1fTnVMfM8SXkv8WL+rvPeJrWe4DCeE9WVonT8KLF9Y1CW85Qw/H2v0DujHZnrH3O6mjYmMYT0jv2fD5b2+WqFjo87LlSW8nvD+5HGaiqdx+vWW8bYenrjU6NxDAwOABrXa95mVBI2n9/zNuV0MhUmmrS9vto3V0qv3qiEZHE9g2FpcbdG9GliQT+vK9t9kH9l+dK73lb36JczDWTPWr5J3bssSy31FPXeRYdPn6+/lm9t2jLVXl8CrMuemUqf1tS+ZnFv1Q5dxD2cpI/XTfdvv9wWlF5fy1TVQ4XwTEOZx33MZeqHea/F5c7jtq7c14ghTOMyGY/2tbCrDWyocd0ztMSeMOFtDHMzmhc5vXIJJhVPf3Q/CbsuHKpwDiE+L/kg4pY/ivsukA9ndN5aLooGrus8XDT6d2O9AhTL8TEifFWP9rXyMDJ8wvo3+Z0ae2184zvlrCs+tIR3MxsrZbiEO0J+2GUuVPr/9B2G/kX9M4cAmX7Q36sB73PoHzb9fXxV/dAr5JMy3ggX/xB/x807mNd+Bmoc/E9R934rrYv/4YMVYfysfI8O+T76YTKm+/aA/GTUWS/N+465fPmsOzxta780POp3dUkEQBEHYlX/MwxEEQRBehSgcQRAE4RBE4QiCIAiHIApHEARBOACi/wFr29wbfS56vgAAAABJRU5ErkJggg==)\n"
      ],
      "metadata": {
        "id": "8dETCH5wzGkA"
      }
    },
    {
      "cell_type": "code",
      "source": [
        "#@title 예시 코드 { display-mode: \"form\" }\n",
        "\n",
        "x=2\n",
        "y=-4\n",
        "\n",
        "result=x**2 +x*y\n",
        "print(result)"
      ],
      "metadata": {
        "id": "F3CW6rsy0waW",
        "colab": {
          "base_uri": "https://localhost:8080/"
        },
        "outputId": "f1279938-557a-4caf-9486-0d09b1886018"
      },
      "execution_count": null,
      "outputs": [
        {
          "output_type": "stream",
          "name": "stdout",
          "text": [
            "-4\n"
          ]
        }
      ]
    },
    {
      "cell_type": "markdown",
      "source": [
        "⭐ 아래 코드 셀에 직접 코드를 입력해보자."
      ],
      "metadata": {
        "id": "5Tm8lZX21bYW"
      }
    },
    {
      "cell_type": "code",
      "source": [
        "\n",
        "\n",
        "\n"
      ],
      "metadata": {
        "id": "zpoxuFQX1bYW"
      },
      "execution_count": null,
      "outputs": []
    },
    {
      "cell_type": "markdown",
      "source": [
        "\n",
        "\n",
        "---\n",
        "\n",
        "\n",
        "\n"
      ],
      "metadata": {
        "id": "WrkqPuDoQLZ9"
      }
    },
    {
      "cell_type": "markdown",
      "source": [
        "> [예제3]"
      ],
      "metadata": {
        "id": "4XecHSknWatX"
      }
    },
    {
      "cell_type": "markdown",
      "source": [
        "1. 정가가 10,000원인 책을 a% 할인하여 x권을 구매할 때, 지불해야 할 금액을 a,x에 관한 식으로 나타내면?\n",
        "2. 이 때, 할인율 a가 10, 20, 30%이고, 구매할 책의 권수 x가 5, 8, 11일 때, 각 조합에서 계산한 값은?\n",
        "3. 가장 비싸게 지불할 경우 몇 권의 책을 얼마의 할인율로 사게 되는지 구하시오.\n"
      ],
      "metadata": {
        "id": "CtnZojzL1znG"
      }
    },
    {
      "cell_type": "code",
      "source": [
        "#@title 2의 예시코드 { display-mode: \"both\" }\n",
        "import numpy as np\n",
        "\n",
        "a = range(10,31,10)\n",
        "x = range(5,12,3)\n",
        "cost = np.zeros((len(a), len(x)))\n",
        "for i in range(len(a)):\n",
        "    for j in range(len(x)):\n",
        "        cost[i,j] = 10000*(1-a[i]/100)*x[j]\n",
        "cost"
      ],
      "metadata": {
        "colab": {
          "base_uri": "https://localhost:8080/"
        },
        "id": "PEj3zTDh1znJ",
        "outputId": "5bf39f43-ba4d-4507-f91f-16233a2f3382"
      },
      "execution_count": null,
      "outputs": [
        {
          "output_type": "execute_result",
          "data": {
            "text/plain": [
              "array([[45000., 72000., 99000.],\n",
              "       [40000., 64000., 88000.],\n",
              "       [35000., 56000., 77000.]])"
            ]
          },
          "metadata": {},
          "execution_count": 4
        }
      ]
    },
    {
      "cell_type": "code",
      "source": [
        "#@title 3의 예시코드\n",
        "np.where(np.max(cost) == cost)"
      ],
      "metadata": {
        "colab": {
          "base_uri": "https://localhost:8080/"
        },
        "id": "VRGHW4WBR1p1",
        "outputId": "f5871eca-5b30-4e69-bc6c-cc43d5eefe6b"
      },
      "execution_count": null,
      "outputs": [
        {
          "output_type": "execute_result",
          "data": {
            "text/plain": [
              "(array([0]), array([2]))"
            ]
          },
          "metadata": {},
          "execution_count": 7
        }
      ]
    },
    {
      "cell_type": "markdown",
      "source": [
        "따라서 할인율은 첫번째(인덱스 0) 값인 10%, 책의 권수는 세번째(인덱스2) 값인 11권을 구매할 때, 가장 비싸게 구매하고 그 값은 99,000이다."
      ],
      "metadata": {
        "id": "fJb9mUpsTulx"
      }
    },
    {
      "cell_type": "code",
      "source": [
        "#@title 가장 비싸게 살 때의 값\n",
        "cost[0,2]"
      ],
      "metadata": {
        "colab": {
          "base_uri": "https://localhost:8080/"
        },
        "id": "boz2N131SAsk",
        "outputId": "9de1cdf5-c21d-46ce-bf8e-9bbc34fb6356"
      },
      "execution_count": null,
      "outputs": [
        {
          "output_type": "execute_result",
          "data": {
            "text/plain": [
              "99000.0"
            ]
          },
          "metadata": {},
          "execution_count": 6
        }
      ]
    },
    {
      "cell_type": "markdown",
      "source": [
        "⭐ 아래 코드 셀에 직접 코드를 입력해보자."
      ],
      "metadata": {
        "id": "N2gM0N-a1znK"
      }
    },
    {
      "cell_type": "code",
      "source": [
        "\n",
        "\n",
        "\n"
      ],
      "metadata": {
        "id": "OD10dnuA1znK"
      },
      "execution_count": null,
      "outputs": []
    },
    {
      "cell_type": "markdown",
      "source": [
        "# 2. 일차방정식\n",
        "\n"
      ],
      "metadata": {
        "id": "PcEE-QTPv4h6"
      }
    },
    {
      "cell_type": "markdown",
      "source": [
        "![image.png](data:image/png;base64,iVBORw0KGgoAAAANSUhEUgAAAZAAAAA8CAYAAABIFuztAAAAAXNSR0IArs4c6QAAAARnQU1BAACxjwv8YQUAAAAJcEhZcwAADsMAAA7DAcdvqGQAAAvbSURBVHhe7Z0LtqOqEoZr3+GEDKdNhqMOJ9rD0Uwnt6rAB74iaHrn6P+dxeoTYxSxoF7A/nkxBAAAAATyP/cvAAAAEAQUCAAAgCigQAAAAEQBBQIAACAKKBAAAABRQIEAAACIAgoEAABAFFAgAAAAooACAQAAEAUUCAAA7EBd5nTLS/fpHECBAABANDXltx/6+fmh6y0juiTu+DnAXlgAALCV8kY/N6LiVdCZVAg8EAAA2Ej9fBIlyamUhwAFAgAAm6jpb1mz/jib+oACAQCAbdR/qawNmYv7fCKgQAAAYAP135Jqk9Afyul2tQn1n2vOfsnxgQIBAIBobPiK9Qfl+YXS6kWvqqCkzuieH1+FQIEAAEAsLnxFdKGiSEj+T7SJpEPq8u/hvRAoEAAAiETDV6w80vR8CXQBCgQAAKJw4assHUzfLamUBemXi/VIDgwUCAAAxODCV8mfgZpg7SH64wzTeqFAAAAggnb2lac/asplPyyT0RmiWlAgAAAQwbOux2GqMqeMvZLskR4+fCVAgYCPc8ZdSsHxuRhWEWVJzWzdurzR9fakrKooPYP2YKBAwIf4wl1K6/5CrxuVZ1jpBT6GSR+UJawwnEzdS0PpiZSHsI8CEQvzeqUrd8o8qleyFr/J769sqW7p1f3rhFm8NVsS7Z1loNHrxD6PY3O7fAMl3X54sHWf1sOdqXjRqxDFYefF/yr8Tq/Xkjt9RbIBdZWSvpuPrvX6+Pv35b1kC1jvd8unlaO0gShPUeonWOT2eUTGrTypTBUpJb+pPHaRt8CxWLZzf0dVJC9uF9n2XYtJsldRuS9bqldm6JUU7uMAHkfa32sxGf/Cp8rMi+YuMIGer9dLXv1fzV6nyrznmCrdz5afp8HWwbySyTYR1l3neylePPx77RtC6Dv9DPYdDOuhMjkhh6upuG1MI4PcL/haof1iD/w2lvdlXtncQ0mdPTkHxyJU3ioWCS7uU8PafvvWA6lzsWjILtFXTSsuGlulfDDEKuW6tJpaC5uAa5W11EHDDj++xSjWJCs392kFJiVuqK4O8luTecdCLidoHTLW2+zBPN0x0PAlu5SyZZax3AzroZ/rjK01dyAI2weeSSNT3C8SOfYBr0b+1oTzHGyJ8Qgd5kISugdno6a8Cd96RcZ3LoOxdS1vFAi7M9zzkqLouWaGEon9sRLRxTLR1Pz7dTXuFMWFLgPhN3wgrj/Y6XZJun22hPnDNh8PJGeKfa7iS3YpFeU+GUZzsmO/D6O88SCeFFSlbvsK7RfWmMj2njDA92mNHi0pV2BvLQW+HU3St0pABv5e2P0thtJHJlJK7FcM5ElKXO5mWYHUT7aqp+LXRmav0fP5vvqd9zAsV80zrN210ioKiccPrnPNAhqxh7NKy7xJpg6vfdXv38OK6M51eD7j6hFCbeOT9rml3s4THN5Yj9tnaK2KNoHM7b7z+DbHd+xSWrOcuv8dwppNdVvwu7PXnPKs1JhghbRLE/dyFn5xfWeLJzLLesPuLV8ih0egjQQ9mgH/QSn3q+sv7/q7rEC0g7ESGdXQdqDL0B2YoEla2mL/3KMXzgoIZYkVOdKebPJN/t5z+wfumXRMlt6kqKi4iJDL98NrV+xlufMXKLkjZ5eCr5PZ5NWH3qa1PnjAaMJwD1anjfLw6snPk7PaF0GrEirvLGDyvHf2JPmYOHIxFnc4cbuUzhscb8rsaMTKQduIjR57oIcL5/AJ4eHHf+BZDUOuoxLz51MN/UlYdtwMuXHZSzltk8P95eC/jESC2LOV/tP2dfYligdl/N+v7vrLgriIJlNM0ksOVq9CE8fDxOqK5E2RLCYtbUK6S2hzI3XJQE2ATyRzJ44vJoBcIt30sowszHq//jE+8c3zcDt4SViXqJWEupdJ3SGJKu02qp9NhvrH+G5F4eojdHWyp9nPJgupTGQSXdvZjO7lt9m/wLbT9D2b9gl/PnmOYdsLY9nb4f1rsl7qaYvhi/XvvNhvfon95fDELIybQfI2N4ZOsFam3ibRNf+QshXZhCDUmmdrXbShO2cdbJGIdSAWKP87qzO9eO/Oc6rFArqqKudn6i6sngg/TJ3d13kQEkqSaW5UUNV6UHYOeGZqtu5WXmcNzluSdunXuQkvpoMGMkkTkxec9d3mZ6SOMoV1/ObmLT6xRPndTX7HZcbiO/oupUkqciRhmO5Fq5coh3d9ZvGQdRZL1ydY8kahi7bfxHglM7CclypA4cTK4V7s78Es9IHV5RMhxw+yZizmL3di2dJSy1MsJzeN0PdqLIueQ2vFTJU1Hoj8fugd9BnWf/555qxPi71P9/X8ddag7TZhNSzXwaGey1ZrNMYDsc88rp9797GNEYW75+Qz2HpOf7eC0TRevs6orbe9f5XlkfUpz9S9V1/e/e8U58FGl60e4y5yeGYm3qky1c8W5C3UA1khtG89kPVYq0Is+SFiDdxK9lr4S+5k7L1kZDTBNshNLGKvz3WeKGOry4wC1NZDKGZX+szXfwi3q+8NeNj7zH4dAnsfOqGHrTm/WjIDjkVhuAvoAI0xjzZ7+wds2KV0f8txadrqUn5kBSrLvYVkXox6H4zMVtnKaBZXYAnKU46JkUPkQPokZB1el/NUbKRDciCPzYNNzf2AC7+nPHeLUdfNIGLzIgDVSkPrZFCGSsv+ZkLruVxE37pZq/XOgm27seWxrp2c5b25PeU6YRa61m9ktTprf6s1G4H14qYsuL3ayKeqZHFW8SqypM1dxN/C1rHznF3urXdBXx7mrNXf4jNtfEbGC7r9XJhlyeN1fbB3DVsMe89ckuSVZSy3Ir8rx+IgD8SfUTUsE7OW2IK+lxfiKo3jsjLDRD2RmBkwDaKFZRFMZ4HMbuOwhOQ0mumxWtbPsV5rKcUYRrrbJ9vG3mQ3aVNZm+Os+JotBvXidNYZe3TuPnXO7cD/ep4Y/1bzUB/m23YptW3FFtZQ0DSPtOwRjXkXC7/S/X7n98DXvrDlqHkx99MobL6RWjnjdyy5tzWu8gTt7KtPTf/8Ijk8GqwwvFl5IgNhojUXxal4LJa1doXmLJOAlaY7hrAmUCWxkNTTaYqxST9ZWXml21M6adcQD1OHhcZYmL3psVrWz7FeVqpS4gcQ3e3TC6/wICgKhQVB+qMkbfMLv3Q+TdahqLLhxpTjqrizhF1TO2raHXGJ0siBJ4Sv26U0SfUdjKaNPqU9ucMENQkP6JPvuSm2MxZFSilfeJfH1VBZd4/wgaPDThjhX3/or+V9kxyCT+BWtDcGAAvkSubcH79s8VTXuk2KJuamQysh15k/d8kVDGHLddj9N+xWikupRY6596DH9SSHnGvfQbdXGZ+b8PO5Y97pq5EQRFgIq39fvz6/iAuZtqGgf7Yn1F5yNE9wCEv6zscq9Ck5BOvYR97ejYvNdwEeCLs/i0vhbYFhsSc2fJGyRW+0yDHnhupxPcnRWandrqB8rtstVI59wuKcpruvX59fxIVM21AQe5fcYJDXCbydqYP5JjkE++PGH9dxdg1hbRO8QDQsITO5+jmPmkoeIELm4puUhVxCLHmv7jW7aW6Gw0GXMQQgBkNsmPHLYCXSDG5sSS3MyPvvMZ51uIBsC8Qy3+Vt/HK9cX+QPMY/68zgv0qYAmEhvcigPSF0neDFJYwb1ncE0YQ8CFxkUV9TBxF6sYBCYu3Wyk8kF9I8y/VOJYnFCmsJfD92sW9fUgcTL4Z4+b658kv5KvA1rBmLf1hYJDYJAAAABPHZWVgAAHAG+ksBdMGfhNf7C/+OCRQIAABsQKep95cCzO6UfTygQAAAIBZd41S6DVrd+hyXOzBZeozJJwtAgQAAQAwy8UaUx8qdso8IkugAABCBbAujm8QOprnL8dwMZ8YdE3ggAAAQCnsfW3bKPgrwQAAAIBDZRNX+bTp/vYwer9N2pfbRgQcCAACBBO2UfWCgQAAAIJCQnbKPDEJYAAAQjCwULMk8Uvqjn2WzU/snJjJKKHscX3kIUCAAAACiQAgLAABAFFAgAAAAooACAQAAEAUUCAAAgCigQAAAAERA9H8lhNvyxkeEjwAAAABJRU5ErkJggg==)"
      ],
      "metadata": {
        "id": "I2JjK6vaXDzt"
      }
    },
    {
      "cell_type": "markdown",
      "source": [
        "> [예제1]"
      ],
      "metadata": {
        "id": "fzG5VG4hYwvd"
      }
    },
    {
      "cell_type": "markdown",
      "source": [
        "* 2x-3=0 의 해를 구하시오."
      ],
      "metadata": {
        "id": "2cUrH47rYfpi"
      }
    },
    {
      "cell_type": "code",
      "source": [
        "#@title 예시 코드\n",
        "from fractions import Fraction\n",
        "\n",
        "a=2\n",
        "b=-3\n",
        "\n",
        "x=Fraction(-b,a)\n",
        "\n",
        "print(x)"
      ],
      "metadata": {
        "colab": {
          "base_uri": "https://localhost:8080/"
        },
        "id": "X7V-_ZlNZMf3",
        "outputId": "a509712a-ff21-4fa5-f760-0d0626624586"
      },
      "execution_count": null,
      "outputs": [
        {
          "output_type": "stream",
          "name": "stdout",
          "text": [
            "3/2\n"
          ]
        }
      ]
    },
    {
      "cell_type": "markdown",
      "source": [
        "⭐ 아래 코드 셀에 직접 코드를 입력해보자."
      ],
      "metadata": {
        "id": "XBs1FwJXxEQh"
      }
    },
    {
      "cell_type": "code",
      "source": [
        "\n",
        "\n",
        "\n"
      ],
      "metadata": {
        "id": "HODQ3O8WxEQp"
      },
      "execution_count": null,
      "outputs": []
    },
    {
      "cell_type": "markdown",
      "source": [
        "> ax+b=0 에서 a, b의 값을 입력받아 그 해를 리턴하는 함수를 만들어보자.\n"
      ],
      "metadata": {
        "id": "76hngsXBZ853"
      }
    },
    {
      "cell_type": "code",
      "source": [
        "#@title 예시 코드\n",
        "from fractions import Fraction\n",
        "\n",
        "def linear_eq(a,b):\n",
        "    x=Fraction(-b,a)\n",
        "    return x\n"
      ],
      "metadata": {
        "id": "rUCJWQ4SaOKZ"
      },
      "execution_count": null,
      "outputs": []
    },
    {
      "cell_type": "code",
      "source": [
        "#@title a, b 입력하여 일차방정식 해 구하기\n",
        "a = 4 #@param {type:\"integer\"}\n",
        "b = 5 #@param {type:\"integer\"}\n",
        "\n",
        "print(linear_eq(a,b))"
      ],
      "metadata": {
        "colab": {
          "base_uri": "https://localhost:8080/"
        },
        "id": "B3CqORKDavtx",
        "outputId": "4717ae83-1401-496a-916d-9fa19db9bb8f"
      },
      "execution_count": null,
      "outputs": [
        {
          "output_type": "stream",
          "name": "stdout",
          "text": [
            "-5/4\n"
          ]
        }
      ]
    },
    {
      "cell_type": "markdown",
      "source": [
        "⭐ 아래 코드 셀에 직접 코드를 입력해보자."
      ],
      "metadata": {
        "id": "fhn9LqVMxMPg"
      }
    },
    {
      "cell_type": "code",
      "source": [
        "\n",
        "\n",
        "\n"
      ],
      "metadata": {
        "id": "6FsXpzp9xMPh"
      },
      "execution_count": null,
      "outputs": []
    },
    {
      "cell_type": "code",
      "source": [
        "#@title a, b 입력하여 일차방정식 해 구하기\n",
        "a = 4 #@param {type:\"integer\"}\n",
        "b = 5 #@param {type:\"integer\"}\n",
        "\n",
        "print(linear_eq(a,b))"
      ],
      "metadata": {
        "colab": {
          "base_uri": "https://localhost:8080/"
        },
        "outputId": "4717ae83-1401-496a-916d-9fa19db9bb8f",
        "id": "Fl-ACsteU01e"
      },
      "execution_count": null,
      "outputs": [
        {
          "output_type": "stream",
          "name": "stdout",
          "text": [
            "-5/4\n"
          ]
        }
      ]
    },
    {
      "cell_type": "markdown",
      "source": [
        "> ax+b=0 에서 a, b의 값을 입력받아 그 해를 리턴하는 함수를 만들어보자.\n",
        "(일차항의 계수 a가 0인 경우 해결할 수 있는 조건문을 추가하여 함수를 수정하여보자.)\n"
      ],
      "metadata": {
        "id": "knRO_eO0xXva"
      }
    },
    {
      "cell_type": "code",
      "source": [
        "#@title 예시 코드\n",
        "from fractions import Fraction\n",
        "\n",
        "def linear_eq(a,b):\n",
        "    if a==0:\n",
        "        if b==0:\n",
        "            return \"해가 무수히 많다.\"\n",
        "        else:\n",
        "            return \"해가 없다.\"\n",
        "    else:\n",
        "        x=Fraction(-b,a)\n",
        "    return x\n"
      ],
      "metadata": {
        "cellView": "form",
        "id": "tdzdqu0hxXva"
      },
      "execution_count": null,
      "outputs": []
    },
    {
      "cell_type": "code",
      "source": [
        "#@title a, b 입력하여 일차방정식 해 구하기\n",
        "a = 0 #@param {type:\"integer\"}\n",
        "b = 5 #@param {type:\"integer\"}\n",
        "\n",
        "print(linear_eq(a,b))"
      ],
      "metadata": {
        "colab": {
          "base_uri": "https://localhost:8080/"
        },
        "outputId": "0a2c77ce-bb43-445f-b1e9-6f17f37cd3f4",
        "cellView": "form",
        "id": "x9jbpZiKxXva"
      },
      "execution_count": null,
      "outputs": [
        {
          "output_type": "stream",
          "name": "stdout",
          "text": [
            "해가 없다.\n"
          ]
        }
      ]
    },
    {
      "cell_type": "markdown",
      "source": [
        "⭐ 아래 코드 셀에 직접 코드를 입력해보자."
      ],
      "metadata": {
        "id": "E1Iw7_f5xXvb"
      }
    },
    {
      "cell_type": "code",
      "source": [
        "#@title 예시 코드\n",
        "from fractions import Fraction\n",
        "\n",
        "\n",
        "def P_eq(a,b):\n",
        "    x=Fraction(-b,a)\n",
        "    return x\n",
        "\n",
        "\n",
        "\n",
        "\n",
        "\n",
        "a = 4 #@param {type:\"integer\"}\n",
        "b = 5 #@param {type:\"integer\"}\n",
        "\n",
        "print(P_eq(a,b))"
      ],
      "metadata": {
        "colab": {
          "base_uri": "https://localhost:8080/"
        },
        "id": "XBamAw2ZxXvb",
        "outputId": "c3ddacb6-acd5-4436-f178-5eade1fc24a6"
      },
      "execution_count": null,
      "outputs": [
        {
          "output_type": "stream",
          "name": "stdout",
          "text": [
            "-5/4\n"
          ]
        }
      ]
    },
    {
      "cell_type": "markdown",
      "source": [
        "> 임의의 일차방정식 문제 생성 프로그램을 만들어보자."
      ],
      "metadata": {
        "id": "KvOzt9c30Njr"
      }
    },
    {
      "cell_type": "code",
      "source": [
        "#@title 예시 코드\n",
        "import numpy as np\n",
        "from fractions import Fraction\n",
        "\n",
        "class Linear_equation:\n",
        "    def question(self):\n",
        "        self.coefficient=np.random.randint(-10,10) #a의 값 ; 일차항 계수\n",
        "        self.contant=np.random.randint(-20,20) #b의 값 ; 상수항\n",
        "        print(f'{self.coefficient}x + {self.contant} = 0')\n",
        "\n",
        "    def answer(self):\n",
        "        x=linear_eq(self.coefficient,self.contant)\n",
        "        return x\n"
      ],
      "metadata": {
        "id": "R_bWnCBF0Njy"
      },
      "execution_count": null,
      "outputs": []
    },
    {
      "cell_type": "markdown",
      "source": [
        "\n",
        "\n",
        "---\n",
        "\n",
        "\n",
        "임의의 일차 방정식을 구한 후 해를 구한다.\n",
        "\n",
        "\n",
        "\n",
        "---\n",
        "\n",
        "\n"
      ],
      "metadata": {
        "id": "6mm9K2XLdssK"
      }
    },
    {
      "cell_type": "code",
      "source": [
        "q1=Linear_equation()\n",
        "q1.question()"
      ],
      "metadata": {
        "colab": {
          "base_uri": "https://localhost:8080/"
        },
        "id": "Xb2qqBPOdGGH",
        "outputId": "efe7067e-8a32-4404-e487-94cfe41b31dd"
      },
      "execution_count": null,
      "outputs": [
        {
          "output_type": "stream",
          "name": "stdout",
          "text": [
            "-6x + 10 = 0\n"
          ]
        }
      ]
    },
    {
      "cell_type": "markdown",
      "source": [
        "\n",
        "\n",
        "---\n",
        "\n",
        "\n",
        "직접 풀이하여 얻은 해와 비교한다.\n",
        "\n",
        "\n",
        "\n",
        "---\n",
        "\n",
        "\n"
      ],
      "metadata": {
        "id": "ooOVzJVre0pL"
      }
    },
    {
      "cell_type": "code",
      "source": [
        "print(q1.answer())"
      ],
      "metadata": {
        "colab": {
          "base_uri": "https://localhost:8080/"
        },
        "id": "JrHZdN3-dcr_",
        "outputId": "70c0f34c-e669-4750-a09c-468c60fb40f6"
      },
      "execution_count": null,
      "outputs": [
        {
          "output_type": "stream",
          "name": "stdout",
          "text": [
            "5/3\n"
          ]
        }
      ]
    }
  ]
}