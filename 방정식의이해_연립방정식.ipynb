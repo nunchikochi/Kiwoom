{
  "nbformat": 4,
  "nbformat_minor": 0,
  "metadata": {
    "colab": {
      "provenance": [],
      "collapsed_sections": [
        "ZGdhUy1Mssmj",
        "-UpFfMQeEsS3"
      ],
      "include_colab_link": true
    },
    "kernelspec": {
      "name": "python3",
      "display_name": "Python 3"
    },
    "language_info": {
      "name": "python"
    }
  },
  "cells": [
    {
      "cell_type": "markdown",
      "metadata": {
        "id": "view-in-github",
        "colab_type": "text"
      },
      "source": [
        "<a href=\"https://colab.research.google.com/github/nunchikochi/Kiwoom/blob/main/%EB%B0%A9%EC%A0%95%EC%8B%9D%EC%9D%98%EC%9D%B4%ED%95%B4_%EC%97%B0%EB%A6%BD%EB%B0%A9%EC%A0%95%EC%8B%9D.ipynb\" target=\"_parent\"><img src=\"https://colab.research.google.com/assets/colab-badge.svg\" alt=\"Open In Colab\"/></a>"
      ]
    },
    {
      "cell_type": "markdown",
      "metadata": {
        "id": "ZGdhUy1Mssmj"
      },
      "source": [
        "## **준비하기**\n",
        "*   **파일>드라이브에 사본 저장** 하기\n",
        "*   **런타임>모두 실행** 하기"
      ]
    },
    {
      "cell_type": "markdown",
      "source": [
        "# ▣ 방정식의 이해\n",
        "\n",
        "\n",
        "3. 연립방정식\n",
        "\n",
        "\n"
      ],
      "metadata": {
        "id": "-UpFfMQeEsS3"
      }
    },
    {
      "cell_type": "markdown",
      "source": [
        "# 3. 연립방정식\n",
        "\n"
      ],
      "metadata": {
        "id": "CwDgbM16v87I"
      }
    },
    {
      "cell_type": "markdown",
      "source": [
        "> 예제를 통한 연립방정식의 풀이"
      ],
      "metadata": {
        "id": "2ulkrLkao4z0"
      }
    },
    {
      "cell_type": "markdown",
      "source": [
        "\n",
        "\n",
        "---\n",
        "\n",
        "\n",
        "다음의 연립방정식의 풀이를 생각해봅시다.\n",
        "\n",
        "![image.png](data:image/png;base64,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)\n",
        "\n",
        "\n",
        "\n",
        "---\n",
        "\n"
      ],
      "metadata": {
        "id": "ua99mEWFhqkM"
      }
    },
    {
      "cell_type": "markdown",
      "source": [
        "\n",
        "\n",
        "---\n",
        "\n",
        "\n",
        "위의 풀이과정에서 두 방정식의 계수를 받는 리스트를 만들어봅시다.\n",
        "\n",
        "\n",
        "---\n",
        "\n"
      ],
      "metadata": {
        "id": "CpnDB5ZGlPYD"
      }
    },
    {
      "cell_type": "code",
      "source": [
        "import numpy as np\n",
        "from fractions import Fraction\n",
        "\n",
        "a=[1,5,20]\n",
        "b=[Fraction(1,2),Fraction(1,3),4]\n",
        "a=np.array(a)\n",
        "b=np.array(b)\n",
        "c=b*2\n",
        "print(a)\n",
        "print(b)\n",
        "print(c)"
      ],
      "metadata": {
        "colab": {
          "base_uri": "https://localhost:8080/"
        },
        "id": "C7L8U9AelgaN",
        "outputId": "d9d512be-63c3-408b-e02d-448d52987469"
      },
      "execution_count": null,
      "outputs": [
        {
          "output_type": "stream",
          "name": "stdout",
          "text": [
            "[ 1  5 20]\n",
            "[Fraction(1, 2) Fraction(1, 3) 4]\n",
            "[Fraction(1, 1) Fraction(2, 3) 8]\n"
          ]
        }
      ]
    },
    {
      "cell_type": "markdown",
      "source": [
        "\n",
        "\n",
        "---\n",
        "\n",
        "\n",
        "가감법을 이용하여 연립방정식의 해를 구하는 과정을 구현합니다.\n",
        "\n",
        "\n",
        "---\n",
        "\n"
      ],
      "metadata": {
        "id": "fvvofZPsntXN"
      }
    },
    {
      "cell_type": "code",
      "source": [
        "d=a-c #첫 번째 등식에서 두 번째 등식을 각 변끼리 뺀다.\n",
        "y=Fraction(d[2],d[1]) # y의 값을 구한다. \n",
        "x=Fraction((a[2]-a[1]*y),a[0]) # x의 값을 구한다.\n",
        "print(f'x={x}\\ny={y}')"
      ],
      "metadata": {
        "colab": {
          "base_uri": "https://localhost:8080/"
        },
        "id": "3-wWnSfDmmpp",
        "outputId": "d0e39519-0d34-45eb-9810-7900b18c429a"
      },
      "execution_count": null,
      "outputs": [
        {
          "output_type": "stream",
          "name": "stdout",
          "text": [
            "x=80/13\n",
            "y=36/13\n"
          ]
        }
      ]
    },
    {
      "cell_type": "markdown",
      "source": [
        "> 연립방정식의 풀이 일반화\n",
        "\n",
        "\n",
        "\n",
        "---\n",
        "위의 풀이과정을 일반화하는 코딩 함수를 작성합니다.\n",
        "\n",
        "---"
      ],
      "metadata": {
        "id": "4TelIZB_pt3-"
      }
    },
    {
      "cell_type": "code",
      "source": [
        "def simultaneous_eq01(a,b):\n",
        "    a=np.array(a)\n",
        "    b=np.array(b)\n",
        "    c=b*Fraction(a[0],b[0])\n",
        "    d=a-c\n",
        "    y=Fraction(d[2],d[1])\n",
        "    x=Fraction(a[2]-a[1]*y,a[0])\n",
        "    return x,y"
      ],
      "metadata": {
        "id": "obA4k4Gms-sg"
      },
      "execution_count": null,
      "outputs": []
    },
    {
      "cell_type": "markdown",
      "source": [
        "\n",
        "\n",
        "---\n",
        "연립방정식을 만들어 해를 확인해봅니다.\n",
        "\n",
        "\n",
        "---\n",
        "\n"
      ],
      "metadata": {
        "id": "ctfr2Cbp22GX"
      }
    },
    {
      "cell_type": "code",
      "source": [
        "#@title 두 방정식의 계수를 리스트로 작성하세요. (Ax+By=C 는 [A,B,C] 의 형태로 작성)\n",
        "a = [1,3,30] #@param\n",
        "b = [2,5,4] #@param \n",
        "\n",
        "x,y=simultaneous_eq01(a,b)\n",
        "print(f'x={x}\\ny={y}')\n"
      ],
      "metadata": {
        "colab": {
          "base_uri": "https://localhost:8080/"
        },
        "cellView": "form",
        "id": "DF1a_SV40M-U",
        "outputId": "1a9abe71-e529-4fe5-ca32-59433d9466ce"
      },
      "execution_count": null,
      "outputs": [
        {
          "output_type": "stream",
          "name": "stdout",
          "text": [
            "x=-138\n",
            "y=56\n"
          ]
        }
      ]
    },
    {
      "cell_type": "markdown",
      "source": [
        "\n",
        "\n",
        "---\n",
        "x나 y의 계수가 0이 될 때를 고려하여 코딩 함수를 수정하세요.\n",
        "\n",
        "\n",
        "---\n",
        "\n"
      ],
      "metadata": {
        "id": "kJSTA5kr3Quy"
      }
    },
    {
      "cell_type": "code",
      "source": [
        "def simultaneous_eq02(a,b):\n",
        "    a=np.array(a)\n",
        "    b=np.array(b)\n",
        "    c=b*Fraction(a[0],b[0])\n",
        "    d=a-c\n",
        "    y=Fraction(d[2],d[1])\n",
        "    x=Fraction(a[2]-a[1]*y,a[0])\n",
        "    return x,y"
      ],
      "metadata": {
        "id": "jHL-pSmc5H6e"
      },
      "execution_count": null,
      "outputs": []
    },
    {
      "cell_type": "code",
      "source": [
        "#@title 예시 코드\n",
        "def simultaneous_eq02(a,b):\n",
        "    if a[0]==0: #첫 번째 방정식의 x의 계수가 0인 경우\n",
        "        y=Fraction(a[2],a[1]) #첫 번째 등식을 이용해 y의 값 얻기\n",
        "        x=Fraction(b[2]-b[1]*y,b[0]) #두 번째 등식에 위의 y값을 대입하여 x값 얻기\n",
        "\n",
        "    elif a[1]==0: #첫 번째 방정식의 y의 계수가 0인 경우\n",
        "        x=Fraction(a[2],a[0]) #첫 번째 등식을 이용해 x값 얻기\n",
        "        y=Fraction(b[2]-b[0]*x,b[1]) #두 번째 등식에 위의 x값을 대입하여 y값 얻기\n",
        "\n",
        "    elif b[0]==0: #두 번째 방정식의 x의 계수가 0인 경우\n",
        "        y=Fraction(b[2],b[1]) #두 번째 등식을 이용해 y값 얻기\n",
        "        x=Fraction(a[2]-a[1]*y,a[0]) #두 번째 등식에 위의 y값을 대입하여 x값 얻기\n",
        "\n",
        "    elif b[1]==0: #두 번째 방정식의 y의 계수가 0인 경우\n",
        "        x=Fraction(b[2],b[0]) #두 번째 등식을 이용해 x값 얻기\n",
        "        y=Fraction(a[2]-a[1]*x,a[1]) #첫 번째 등식에 위의 x값을 대입하여 y값 얻기\n",
        "\n",
        "    else: # x,y의 계수가 모두 0이 아닌 일반적인 경우\n",
        "        a=np.array(a)\n",
        "        b=np.array(b)\n",
        "        c=b*Fraction(a[0],b[0])\n",
        "        d=a-c\n",
        "        y=Fraction(d[2],d[1])\n",
        "        x=Fraction(a[2]-a[1]*y,a[0])\n",
        "    return x,y"
      ],
      "metadata": {
        "id": "xPWYJOOo5wl_"
      },
      "execution_count": null,
      "outputs": []
    },
    {
      "cell_type": "code",
      "source": [
        "#@title 두 방정식의 계수를 리스트로 작성하세요. (Ax+By=C 는 [A,B,C] 의 형태로 작성)\n",
        "a = [0,2,4] #@param\n",
        "b = [2,3,8] #@param \n",
        "\n",
        "x,y=simultaneous_eq02(a,b)\n",
        "print(f'x={x}\\ny={y}')\n"
      ],
      "metadata": {
        "colab": {
          "base_uri": "https://localhost:8080/"
        },
        "cellView": "form",
        "outputId": "a7d2c2f6-313e-4d87-e4e2-d5416228c69a",
        "id": "9ya1P9pkZJDj"
      },
      "execution_count": null,
      "outputs": [
        {
          "output_type": "stream",
          "name": "stdout",
          "text": [
            "x=1\n",
            "y=2\n"
          ]
        }
      ]
    },
    {
      "cell_type": "markdown",
      "source": [
        "\n",
        "\n",
        "---\n",
        "연립방정식의 근이 없거나, 무수히 많은 경우도 해결할 수 있도록 코딩 함수를 수정하세요.\n",
        "\n",
        "\n",
        "---\n",
        "\n"
      ],
      "metadata": {
        "id": "LGoliCBbbS48"
      }
    },
    {
      "cell_type": "code",
      "source": [
        "def simultaneous_eq03(a,b):\n",
        "    if a[0]==0: #첫 번째 방정식의 x의 계수가 0인 경우\n",
        "        y=Fraction(a[2],a[1]) #첫 번째 등식을 이용해 y의 값 얻기\n",
        "        x=Fraction(b[2]-b[1]*y,b[0]) #두 번째 등식에 위의 y값을 대입하여 x값 얻기\n",
        "\n",
        "    elif a[1]==0: #첫 번째 방정식의 y의 계수가 0인 경우\n",
        "        x=Fraction(a[2],a[0]) #첫 번째 등식을 이용해 x값 얻기\n",
        "        y=Fraction(b[2]-b[0]*x,b[1]) #두 번째 등식에 위의 x값을 대입하여 y값 얻기\n",
        "\n",
        "    elif b[0]==0: #두 번째 방정식의 x의 계수가 0인 경우\n",
        "        y=Fraction(b[2],b[1]) #두 번째 등식을 이용해 y값 얻기\n",
        "        x=Fraction(a[2]-a[1]*y,a[0]) #두 번째 등식에 위의 y값을 대입하여 x값 얻기\n",
        "\n",
        "    elif b[1]==0: #두 번째 방정식의 y의 계수가 0인 경우\n",
        "        x=Fraction(b[2],b[0]) #두 번째 등식을 이용해 x값 얻기\n",
        "        y=Fraction(a[2]-a[1]*x,a[1]) #첫 번째 등식에 위의 x값을 대입하여 y값 얻기\n",
        "\n",
        "    else: # x,y의 계수가 모두 0이 아닌 일반적인 경우\n",
        "        a=np.array(a)\n",
        "        b=np.array(b)\n",
        "        c=b*Fraction(a[0],b[0])\n",
        "        d=a-c\n",
        "        y=Fraction(d[2],d[1])\n",
        "        x=Fraction(a[2]-a[1]*y,a[0])\n",
        "    return x,y"
      ],
      "metadata": {
        "id": "IYbjGTzNjPur"
      },
      "execution_count": null,
      "outputs": []
    },
    {
      "cell_type": "code",
      "source": [
        "#@title 예시 코드\n",
        "def simultaneous_eq03(a,b):\n",
        "    if a[0]==0: #첫 번째 방정식의 x의 계수가 0인 경우\n",
        "        y=Fraction(a[2],a[1]) #첫 번째 등식을 이용해 y의 값 얻기\n",
        "        x=Fraction(b[2]-b[1]*y,b[0]) #두 번째 등식에 위의 y값을 대입하여 x값 얻기\n",
        "\n",
        "    elif a[1]==0: #첫 번째 방정식의 y의 계수가 0인 경우\n",
        "        x=Fraction(a[2],a[0]) #첫 번째 등식을 이용해 x값 얻기\n",
        "        y=Fraction(b[2]-b[0]*x,b[1]) #두 번째 등식에 위의 x값을 대입하여 y값 얻기\n",
        "\n",
        "    elif b[0]==0: #두 번째 방정식의 x의 계수가 0인 경우\n",
        "        y=Fraction(b[2],b[1]) #두 번째 등식을 이용해 y값 얻기\n",
        "        x=Fraction(a[2]-a[1]*y,a[0]) #두 번째 등식에 위의 y값을 대입하여 x값 얻기\n",
        "\n",
        "    elif b[1]==0: #두 번째 방정식의 y의 계수가 0인 경우\n",
        "        x=Fraction(b[2],b[0]) #두 번째 등식을 이용해 x값 얻기\n",
        "        y=Fraction(a[2]-a[1]*x,a[1]) #첫 번째 등식에 위의 x값을 대입하여 y값 얻기\n",
        "\n",
        "    else: # x,y의 계수가 모두 0이 아닌 일반적인 경우\n",
        "        a=np.array(a)\n",
        "        b=np.array(b)\n",
        "        c=b*Fraction(a[0],b[0])\n",
        "        d=a-c\n",
        "        if d[1]==0:\n",
        "            if d[2]==0:\n",
        "                print('해가 무수히 많다.')\n",
        "                return None, None\n",
        "            else:\n",
        "                print('해가 없다.')\n",
        "                return None, None\n",
        "        else:            \n",
        "            y=Fraction(d[2],d[1])\n",
        "            x=Fraction(a[2]-a[1]*y,a[0])\n",
        "    return x,y"
      ],
      "metadata": {
        "id": "nzRDcHAodG8L"
      },
      "execution_count": null,
      "outputs": []
    },
    {
      "cell_type": "code",
      "source": [
        "#@title 두 방정식의 계수를 리스트로 작성하세요. (Ax+By=C 는 [A,B,C] 의 형태로 작성)\n",
        "a = [1,2,7] #@param\n",
        "b = [2,4,3] #@param \n",
        "\n",
        "x,y=simultaneous_eq03(a,b)\n",
        "if x==None and y== None:\n",
        "    print('')\n",
        "else:\n",
        "    print(f'x={x}\\ny={y}')\n"
      ],
      "metadata": {
        "colab": {
          "base_uri": "https://localhost:8080/"
        },
        "outputId": "61c06333-4452-40a9-a43b-f413f90691cb",
        "cellView": "form",
        "id": "vaCdmsT7hHxK"
      },
      "execution_count": null,
      "outputs": [
        {
          "output_type": "stream",
          "name": "stdout",
          "text": [
            "해가 없다.\n",
            "\n"
          ]
        }
      ]
    }
  ]
}